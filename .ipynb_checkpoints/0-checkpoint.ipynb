{
 "cells": [
  {
   "cell_type": "code",
   "execution_count": 1,
   "id": "6dfb9040-ee25-469f-ad93-5858e78754b1",
   "metadata": {},
   "outputs": [
    {
     "data": {
      "text/plain": [
       "<torch._C.Generator at 0x7f21b6711970>"
      ]
     },
     "execution_count": 1,
     "metadata": {},
     "output_type": "execute_result"
    }
   ],
   "source": [
    "import random\n",
    "import seaborn as sns\n",
    "import pandas as pd\n",
    "import numpy as np\n",
    "import matplotlib.pyplot as plt\n",
    "import sklearn\n",
    "import torch,torchvision\n",
    "from torch.nn import *\n",
    "from tqdm import tqdm\n",
    "import cv2\n",
    "from torch.optim import *\n",
    "# Preproccessing\n",
    "from sklearn.preprocessing import (\n",
    "    StandardScaler,\n",
    "    RobustScaler,\n",
    "    MinMaxScaler,\n",
    "    MaxAbsScaler,\n",
    "    OneHotEncoder,\n",
    "    Normalizer,\n",
    "    Binarizer\n",
    ")\n",
    "# Decomposition\n",
    "from sklearn.decomposition import PCA\n",
    "from sklearn.decomposition import KernelPCA\n",
    "# Feature Selection\n",
    "from sklearn.feature_selection import VarianceThreshold\n",
    "from sklearn.feature_selection import SelectKBest\n",
    "from sklearn.feature_selection import RFECV\n",
    "from sklearn.feature_selection import SelectFromModel\n",
    "# Model Eval\n",
    "from sklearn.compose import make_column_transformer\n",
    "from sklearn.model_selection import GridSearchCV\n",
    "from sklearn.model_selection import cross_val_score,train_test_split\n",
    "from sklearn.metrics import mean_absolute_error,mean_squared_error\n",
    "# Other\n",
    "import pickle\n",
    "import wandb\n",
    "\n",
    "PROJECT_NAME = 'Nvidia-Stock-Price-All-Time'\n",
    "device = 'cuda:0'\n",
    "np.random.seed(21)\n",
    "random.seed(21)\n",
    "torch.manual_seed(21)"
   ]
  },
  {
   "cell_type": "code",
   "execution_count": 2,
   "id": "f5685420-b887-4c5f-9b9a-a8964152323c",
   "metadata": {},
   "outputs": [],
   "source": [
    "data = pd.read_csv('./data.csv')"
   ]
  },
  {
   "cell_type": "code",
   "execution_count": 5,
   "id": "fcb31d76-1dd4-4748-9777-955c78e4edc2",
   "metadata": {},
   "outputs": [],
   "source": [
    "data = data['Open'].astype(float).tolist()"
   ]
  },
  {
   "cell_type": "code",
   "execution_count": 6,
   "id": "00986183-ad32-4e89-8e2e-329b650d8aed",
   "metadata": {},
   "outputs": [],
   "source": [
    "data = torch.from_numpy(np.array(data)).to(device).float().view(1,-1)"
   ]
  },
  {
   "cell_type": "code",
   "execution_count": 7,
   "id": "62b4fe85-15a1-4f63-8209-a8db90a5d16f",
   "metadata": {},
   "outputs": [],
   "source": [
    "data_input = data[:1,:-1]"
   ]
  },
  {
   "cell_type": "code",
   "execution_count": 8,
   "id": "a8e98e86-e798-4a24-9358-ce126a66bccb",
   "metadata": {},
   "outputs": [],
   "source": [
    "data_target = data[:1,1:]"
   ]
  },
  {
   "cell_type": "code",
   "execution_count": 9,
   "id": "250e3f5e-f5fc-4f65-ad50-4f95d1cd1849",
   "metadata": {},
   "outputs": [],
   "source": [
    "class Model(Module):\n",
    "    def __init__(self):\n",
    "        super().__init__()\n",
    "        self.hidden = 512\n",
    "        self.lstm1 = LSTMCell(1,self.hidden)\n",
    "        self.lstm2 = LSTMCell(self.hidden,self.hidden)\n",
    "        self.linear = Linear(self.hidden,1)\n",
    "    \n",
    "    def forward(self,X,future=0):\n",
    "        preds = []\n",
    "        batch_size = X.size(0)\n",
    "        h_t1 = torch.zeros(batch_size,self.hidden).to(device)\n",
    "        c_t1 = torch.zeros(batch_size,self.hidden).to(device)\n",
    "        h_t2 = torch.zeros(batch_size,self.hidden).to(device)\n",
    "        c_t2 = torch.zeros(batch_size,self.hidden).to(device)\n",
    "        for X_batch in X.split(1,dim=1):\n",
    "            X_batch = X_batch.to(device)\n",
    "            h_t1,c_t1 = self.lstm1(X_batch,(h_t1,c_t1))\n",
    "            h_t1 = h_t1.to(device)\n",
    "            c_t1 = c_t1.to(device)\n",
    "            h_t2,c_t2 = self.lstm2(h_t1,(h_t2,c_t2))\n",
    "            h_t2 = h_t2.to(device)\n",
    "            c_t2 = c_t2.to(device)\n",
    "            pred = self.linear(h_t2)\n",
    "            preds.append(pred)\n",
    "        for _ in range(future):\n",
    "            X_batch = X_batch.to(device)\n",
    "            h_t1,c_t1 = self.lstm1(X_batch,(h_t1,c_t1))\n",
    "            h_t1 = h_t1.to(device)\n",
    "            c_t1 = c_t1.to(device)\n",
    "            h_t2,c_t2 = self.lstm2(h_t1,(h_t2,c_t2))\n",
    "            h_t2 = h_t2.to(device)\n",
    "            c_t2 = c_t2.to(device)\n",
    "            pred = self.linear(h_t2)\n",
    "            preds.append(pred)\n",
    "        preds = torch.cat(preds,dim=1)\n",
    "        return preds"
   ]
  },
  {
   "cell_type": "code",
   "execution_count": 10,
   "id": "fdb1b105-3732-4a46-bdd2-92a82bce7ebc",
   "metadata": {},
   "outputs": [],
   "source": [
    "model = Model().to(device)\n",
    "crtierion = MSELoss()"
   ]
  },
  {
   "cell_type": "code",
   "execution_count": 11,
   "id": "4ae85948-4440-4068-b4de-fe983bba1258",
   "metadata": {},
   "outputs": [],
   "source": [
    "optimizer = Adam(model.parameters(),lr=0.001)"
   ]
  },
  {
   "cell_type": "code",
   "execution_count": 12,
   "id": "0360f943-48f4-49db-a7bb-a54daa821ea3",
   "metadata": {},
   "outputs": [],
   "source": [
    "epochs = 100"
   ]
  },
  {
   "cell_type": "code",
   "execution_count": null,
   "id": "b007b5db-8208-45f4-b06d-44485ce1cd6e",
   "metadata": {},
   "outputs": [
    {
     "name": "stderr",
     "output_type": "stream",
     "text": [
      "\u001b[34m\u001b[1mwandb\u001b[0m: Currently logged in as: \u001b[33mranuga-d\u001b[0m (use `wandb login --relogin` to force relogin)\n",
      "\u001b[34m\u001b[1mwandb\u001b[0m: wandb version 0.12.2 is available!  To upgrade, please run:\n",
      "\u001b[34m\u001b[1mwandb\u001b[0m:  $ pip install wandb --upgrade\n"
     ]
    },
    {
     "data": {
      "text/html": [
       "\n",
       "                Tracking run with wandb version 0.12.1<br/>\n",
       "                Syncing run <strong style=\"color:#cdcd00\">baseline</strong> to <a href=\"https://wandb.ai\" target=\"_blank\">Weights & Biases</a> <a href=\"https://docs.wandb.com/integrations/jupyter.html\" target=\"_blank\">(Documentation)</a>.<br/>\n",
       "                Project page: <a href=\"https://wandb.ai/ranuga-d/Nvidia-Stock-Price-All-Time\" target=\"_blank\">https://wandb.ai/ranuga-d/Nvidia-Stock-Price-All-Time</a><br/>\n",
       "                Run page: <a href=\"https://wandb.ai/ranuga-d/Nvidia-Stock-Price-All-Time/runs/3cgs0k4a\" target=\"_blank\">https://wandb.ai/ranuga-d/Nvidia-Stock-Price-All-Time/runs/3cgs0k4a</a><br/>\n",
       "                Run data is saved locally in <code>/home/indika/Programming/Projects/Python/Artifical-Intelligence/PyTorch/NLP/Nvidia-Stock-Price-All-Time/wandb/run-20210927_094325-3cgs0k4a</code><br/><br/>\n",
       "            "
      ],
      "text/plain": [
       "<IPython.core.display.HTML object>"
      ]
     },
     "metadata": {},
     "output_type": "display_data"
    },
    {
     "name": "stderr",
     "output_type": "stream",
     "text": [
      " 18%|███████▌                                  | 18/100 [01:04<04:48,  3.52s/it]"
     ]
    }
   ],
   "source": [
    "wandb.init(project=PROJECT_NAME,name='baseline')\n",
    "for _ in tqdm(range(epochs)):\n",
    "    def closure():\n",
    "        optimizer.zero_grad()\n",
    "        preds = model(data_input)\n",
    "        loss = crtierion(preds,data_target)\n",
    "        loss.backward()\n",
    "        wandb.log({'Loss':loss.item()})\n",
    "        return loss\n",
    "    optimizer.step(closure)\n",
    "    with torch.no_grad():\n",
    "        n = data_input.shape[1]\n",
    "        future = 100\n",
    "        preds = model(data_input,future)\n",
    "        loss = crtierion(preds[:,:-future],data_target)\n",
    "        wandb.log({'Val Loss':loss.item()})\n",
    "        preds = preds[0].view(-1).cpu().detach().numpy()\n",
    "        plt.figure(figsize=(12,7))\n",
    "        plt.plot(np.arange(n),data_target.view(-1).cpu().detach().numpy())\n",
    "        plt.plot(np.arange(n,n+future),preds[n:])\n",
    "        plt.savefig('./img.png')\n",
    "        plt.close()\n",
    "        wandb.log({'Img':wandb.Image(cv2.imread('./img.png'))})\n",
    "wandb.finish()"
   ]
  },
  {
   "cell_type": "code",
   "execution_count": null,
   "id": "6aa146fb-eba3-4385-a3d7-6b84c1d5ea76",
   "metadata": {},
   "outputs": [],
   "source": [
    "\n",
    "torch.save(data,'./data.pt')\n",
    "torch.save(data,'./data.pth')\n",
    "torch.save(data_input,'data_input.pt')\n",
    "torch.save(data_input,'data_input.pth')\n",
    "torch.save(data_target,'data_target.pt')\n",
    "torch.save(data_target,'data_target.pth')"
   ]
  },
  {
   "cell_type": "code",
   "execution_count": null,
   "id": "8856c53c-b639-4a62-99b6-2605a907aa0d",
   "metadata": {},
   "outputs": [],
   "source": [
    "torch.save(model,'custom-model.pt')\n",
    "torch.save(model,'custom-model.pth')\n",
    "torch.save(model.state_dict(),'custom-model-sd.pt')\n",
    "torch.save(model.state_dict(),'custom-model-sd.pth')\n",
    "torch.save(model,'model.pt')\n",
    "torch.save(model,'model.pth')\n",
    "torch.save(model.state_dict(),'model-sd.pt')\n",
    "torch.save(model.state_dict(),'model-sd.pth')"
   ]
  },
  {
   "cell_type": "code",
   "execution_count": null,
   "id": "33477ba4-6310-4e8c-a871-dcff17014457",
   "metadata": {},
   "outputs": [],
   "source": [
    "\n",
    "torch.save(model,'custom-model.pt')\n",
    "torch.save(model,'custom-model.pth')\n",
    "torch.save(model.state_dict(),'custom-model-sd.pt')\n",
    "torch.save(model.state_dict(),'custom-model-sd.pth')\n",
    "torch.save(model,'model.pt')\n",
    "torch.save(model,'model.pth')\n",
    "torch.save(model.state_dict(),'model-sd.pt')\n",
    "torch.save(model.state_dict(),'model-sd.pth')"
   ]
  },
  {
   "cell_type": "code",
   "execution_count": null,
   "id": "2da05229-ea00-4a69-ba93-9b1613f45d7a",
   "metadata": {},
   "outputs": [],
   "source": []
  }
 ],
 "metadata": {
  "kernelspec": {
   "display_name": "Python 3.7.3 64-bit ('base': conda)",
   "language": "python",
   "name": "python373jvsc74a57bd0210f9608a45c0278a93c9e0b10db32a427986ab48cfc0d20c139811eb78c4bbc"
  },
  "language_info": {
   "codemirror_mode": {
    "name": "ipython",
    "version": 3
   },
   "file_extension": ".py",
   "mimetype": "text/x-python",
   "name": "python",
   "nbconvert_exporter": "python",
   "pygments_lexer": "ipython3",
   "version": "3.7.11"
  }
 },
 "nbformat": 4,
 "nbformat_minor": 5
}
